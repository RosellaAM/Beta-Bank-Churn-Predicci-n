{
 "cells": [
  {
   "cell_type": "markdown",
   "metadata": {},
   "source": [
    "# **Predicción de Perdida de Clientes en Beta Bank**\n",
    "## *con machine learning*"
   ]
  },
  {
   "cell_type": "markdown",
   "metadata": {},
   "source": [
    "### **Tabla de Contenidos**\n",
    "1. [Introducción y Objetivo](###introducción-y-objetivo)\n",
    "2. [Carga y Exploración Inicial de Datos](###carga-y-exploración-inicial-de-datos)\n",
    "3. [Preprocesamiento de Datos](###preprocesamiento-de-datos)\n",
    "4. [Análisis del Desequilibrio de Clases](##ana1isis-del-desequilibrio-de-clases)\n",
    "5. [Técnicas de Balanceo](###técnicas-de-balanceo)\n",
    "6. [Ajustes de Parámetros](###ajustes-de-parámetros)\n",
    "7. [Evaluación Final](###evaluación-final)\n",
    "8. [Conclusión](###conclusión)"
   ]
  },
  {
   "cell_type": "markdown",
   "metadata": {},
   "source": [
    "### **Introducción y Objetivo**"
   ]
  },
  {
   "cell_type": "markdown",
   "metadata": {},
   "source": [
    "Beta Bank enfrenta un desafío crítico: la pérdida gradual de clientes mes tras mes. Los banqueros han identificado que retener clientes existentes resulta más rentable que adquirir nuevos, lo que convierte la predicción temprana del abandono de clientes (churn) en una prioridad estratégica.\n",
    "\n",
    "Este proyecto tiene como objetivo desarrollar un modelo predictivo de machine learning que identifique clientes con alta probabilidad de abandonar el banco.\n",
    "El objetivo técnico específico es crear un modelo de clasificación que maximice la métrica F1 (con un valor mínimo requerido de 0.59) para predecir si un cliente dejará el banco, complementando el análisis con la métrica AUC-ROC para una evaluación integral del rendimiento.\n",
    "\n",
    "La metodología se estructura en cinco fases principales:\n",
    "* Carga y exploración de datos.\n",
    "* Preprocesamiento de datos.\n",
    "* Análisis del desequilibrio de clases.\n",
    "* Mejora del modelo con técnicas de balanceo.\n",
    "* Mejora del modelo con ajustes de parametros.\n",
    "* Evaluación final.\n",
    "\n",
    "Se espera que los resultados de este proyecto proporcionen una herramienta efectiva para reducir significativamente la tasa de abandono de clientes y optimizar las estrategias de retención de Beta Bank."
   ]
  },
  {
   "cell_type": "markdown",
   "metadata": {},
   "source": [
    "### **Carga y Exploración Inicial de Datos**"
   ]
  },
  {
   "cell_type": "code",
   "execution_count": 15,
   "metadata": {},
   "outputs": [],
   "source": [
    "# Análisis y vizualicación de datos\n",
    "import pandas as pd\n",
    "import numpy as np\n",
    "import matplotlib.pyplot as plt\n",
    "import seaborn as sns\n",
    "\n",
    "# División y preprocesamiento de Datos\n",
    "from sklearn.model_selection import train_test_split\n",
    "from sklearn.preprocessing import StandardScaler, OrdinalEncoder\n",
    "\n",
    "# Técnicas de balanceo\n",
    "from sklearn.utils import shuffle\n",
    "\n",
    "# Modelos\n",
    "from sklearn.ensemble import RandomForestClassifier\n",
    "from sklearn.tree import DecisionTreeClassifier\n",
    "\n",
    "# Métricas de evaluación\n",
    "from sklearn.metrics import classification_report, confusion_matrix, precision_score, recall_score, f1_score, roc_auc_score, roc_curve"
   ]
  },
  {
   "cell_type": "code",
   "execution_count": 3,
   "metadata": {},
   "outputs": [
    {
     "name": "stdout",
     "output_type": "stream",
     "text": [
      "Información General\n",
      "Dimensiones del dataset: (10000, 14)\n",
      "\n",
      "Información de Columnas\n",
      "<class 'pandas.core.frame.DataFrame'>\n",
      "RangeIndex: 10000 entries, 0 to 9999\n",
      "Data columns (total 14 columns):\n",
      " #   Column           Non-Null Count  Dtype  \n",
      "---  ------           --------------  -----  \n",
      " 0   RowNumber        10000 non-null  int64  \n",
      " 1   CustomerId       10000 non-null  int64  \n",
      " 2   Surname          10000 non-null  object \n",
      " 3   CreditScore      10000 non-null  int64  \n",
      " 4   Geography        10000 non-null  object \n",
      " 5   Gender           10000 non-null  object \n",
      " 6   Age              10000 non-null  int64  \n",
      " 7   Tenure           9091 non-null   float64\n",
      " 8   Balance          10000 non-null  float64\n",
      " 9   NumOfProducts    10000 non-null  int64  \n",
      " 10  HasCrCard        10000 non-null  int64  \n",
      " 11  IsActiveMember   10000 non-null  int64  \n",
      " 12  EstimatedSalary  10000 non-null  float64\n",
      " 13  Exited           10000 non-null  int64  \n",
      "dtypes: float64(3), int64(8), object(3)\n",
      "memory usage: 1.1+ MB\n",
      "None\n",
      "\n",
      "Muestra de Columnas\n",
      "   RowNumber  CustomerId   Surname  CreditScore Geography  Gender  Age  \\\n",
      "0          1    15634602  Hargrave          619    France  Female   42   \n",
      "1          2    15647311      Hill          608     Spain  Female   41   \n",
      "2          3    15619304      Onio          502    France  Female   42   \n",
      "3          4    15701354      Boni          699    France  Female   39   \n",
      "4          5    15737888  Mitchell          850     Spain  Female   43   \n",
      "\n",
      "   Tenure    Balance  NumOfProducts  HasCrCard  IsActiveMember  \\\n",
      "0     2.0       0.00              1          1               1   \n",
      "1     1.0   83807.86              1          0               1   \n",
      "2     8.0  159660.80              3          1               0   \n",
      "3     1.0       0.00              2          0               0   \n",
      "4     2.0  125510.82              1          1               1   \n",
      "\n",
      "   EstimatedSalary  Exited  \n",
      "0        101348.88       1  \n",
      "1        112542.58       0  \n",
      "2        113931.57       1  \n",
      "3         93826.63       0  \n",
      "4         79084.10       0  \n"
     ]
    }
   ],
   "source": [
    "# Carga y examina el dataset\n",
    "data = pd.read_csv('/datasets/Churn.csv')\n",
    "\n",
    "print('Información General')\n",
    "print(f'Dimensiones del dataset: {data.shape}')\n",
    "print('\\nInformación de Columnas')\n",
    "print(data.info())\n",
    "print('\\nMuestra de Columnas')\n",
    "print(data.head())"
   ]
  },
  {
   "cell_type": "code",
   "execution_count": 4,
   "metadata": {},
   "outputs": [
    {
     "name": "stdout",
     "output_type": "stream",
     "text": [
      "Valores nulos: RowNumber            0\n",
      "CustomerId           0\n",
      "Surname              0\n",
      "CreditScore          0\n",
      "Geography            0\n",
      "Gender               0\n",
      "Age                  0\n",
      "Tenure             909\n",
      "Balance              0\n",
      "NumOfProducts        0\n",
      "HasCrCard            0\n",
      "IsActiveMember       0\n",
      "EstimatedSalary      0\n",
      "Exited               0\n",
      "dtype: int64\n",
      "\n",
      "Valores duplicados: 0\n"
     ]
    }
   ],
   "source": [
    "# Limpieza\n",
    " \n",
    "# Busca valores nulos\n",
    "print('Valores nulos:', data.isnull().sum())\n",
    "\n",
    "# Busca de valores duplicados\n",
    "print('\\nValores duplicados:', data.duplicated().sum())"
   ]
  },
  {
   "cell_type": "markdown",
   "metadata": {},
   "source": [
    "Al examinar el dataset inicial, se observa que todas las columnas presentan tipos de datos correctos y consistentes. El análisis reveló las columnas tienen nombres con mayúsculas y todo pegado en vez de tener un guion bajo entre palabras y hay una columna con varios valores ausentes, lo cual se va a tratar en la siguiente parte del proceso.\n",
    "\n",
    "Sin embargo, se identificó una columna que no aporta valor predictivo al modelo \"RowNumber\" es la columna que indica el índice de filas. Esta columna será eliminada en la fase de preprocesamiento, ya que no contiene información relevante para predecir el comportamiento churn de los clientes.\n",
    "\n",
    "No se detectaron filas duplicadas en el dataset, confirmando la integridad de los datos. El dataset está listo para proceder con el análisis exploratorio detallado y el preprocesamiento correspondiente."
   ]
  },
  {
   "cell_type": "code",
   "execution_count": 5,
   "metadata": {},
   "outputs": [],
   "source": [
    "# Corrige columnas.\n",
    "data_clean = data.copy()\n",
    "column_mapping = {\n",
    "    'RowNumber': 'row_number',\n",
    "    'CustomerId': 'customer_id', \n",
    "    'CreditScore': 'credit_score',\n",
    "    'Geography': 'geography',\n",
    "    'Gender': 'gender',\n",
    "    'Age': 'age',\n",
    "    'Tenure': 'tenure',\n",
    "    'Balance': 'balance',\n",
    "    'NumOfProducts': 'num_of_products',\n",
    "    'HasCrCard': 'has_credit_card',\n",
    "    'IsActiveMember': 'is_active_member',\n",
    "    'EstimatedSalary': 'estimated_salary',\n",
    "    'Exited': 'exited'\n",
    "}\n",
    "data_clean = data_clean.rename(columns=column_mapping)\n",
    "\n",
    "# Elimina columna\n",
    "data_clean.drop(columns=['row_number'], inplace=True)\n",
    "\n",
    "# Manejo valores nulos.\n",
    "numeric_columns = data_clean.select_dtypes(include=[np.number]).columns\n",
    "for col in numeric_columns:\n",
    "    if data_clean[col].isnull().sum() > 0:\n",
    "        data_clean[col].fillna(data_clean[col].median(), inplace=True)"
   ]
  },
  {
   "cell_type": "code",
   "execution_count": 6,
   "metadata": {},
   "outputs": [
    {
     "data": {
      "image/png": "[encoded data removed]",
      "text/plain": [
       "<Figure size 800x800 with 1 Axes>"
      ]
     },
     "metadata": {},
     "output_type": "display_data"
    },
    {
     "data": {
      "image/png": "[encoded data removed]",
      "text/plain": [
       "<Figure size 1000x600 with 1 Axes>"
      ]
     },
     "metadata": {},
     "output_type": "display_data"
    },
    {
     "data": {
      "image/png": "[encoded data removed]",
      "text/plain": [
       "<Figure size 1000x600 with 1 Axes>"
      ]
     },
     "metadata": {},
     "output_type": "display_data"
    }
   ],
   "source": [
    "# EDA\n",
    "\n",
    "# Distribución de churn\n",
    "grafic_target = data_clean['exited'].value_counts()\n",
    "plt.figure(figsize=(8, 8))\n",
    "data_clean['exited'].value_counts().plot(kind='bar', color=['skyblue', 'salmon'])\n",
    "plt.title('Distribución de Churn (Exited)')\n",
    "plt.xlabel('Exited (0: No, 1: Sí)')\n",
    "plt.ylabel('Cantidad de Clientes')\n",
    "plt.xticks(rotation=0)\n",
    "\n",
    "# Geography vs Churn\n",
    "churn_rates = data_clean.groupby('geography')['exited'].agg(['count', 'mean']).reset_index()\n",
    "churn_rates['churn_rate'] = churn_rates['mean'] * 100\n",
    "\n",
    "plt.figure(figsize=(10, 6))\n",
    "bars = plt.bar(churn_rates['geography'], churn_rates['churn_rate'], \n",
    "               color=['lightcoral' if x > 20 else 'lightblue' for x in churn_rates['churn_rate']])\n",
    "plt.title('Tasa de Churn por País')\n",
    "plt.ylabel('Tasa de Churn (%)')\n",
    "plt.xlabel('País')\n",
    "\n",
    "# Correlación de variables numericas con churn\n",
    "numeric_cols = ['age', 'credit_score', 'balance', 'estimated_salary', 'tenure']\n",
    "correlation = []\n",
    "for col in numeric_cols:\n",
    "    corr = data_clean[col].corr(data_clean['exited'])\n",
    "    correlation.append(corr)\n",
    "\n",
    "plt.figure(figsize=(10, 6))\n",
    "plt.bar(numeric_cols, correlation, color=['red' if x < 0 else 'green' for x in correlation])\n",
    "plt.title('Correlación de Variables Numéricas con Churn')\n",
    "plt.ylabel('Correlación')\n",
    "plt.xticks(rotation=45)\n",
    "plt.tight_layout()\n",
    "plt.show()"
   ]
  },
  {
   "cell_type": "markdown",
   "metadata": {},
   "source": [
    "Al realizar el análisis exploratorio se puede observar que existe un gran desbalance de clases, con el 80% correspondiente a clientes que permanecen en el banco y 20% a clientes que abandonan la entidad. Este desequilibrio deberá ser ajustado mediante técnicas de balanceo para evitar que el modelo de predicción esté sesgado al predecir \"no churn\".\n",
    "\n",
    "En cuanto a la tasa de churn por país, Alemania presenta niveles alarmantes con un 32.4% de abandono, prácticamente el doble que Francia y España (16.8%), lo cual indica que una proporción significativa de los clientes que deciden abandonar el banco provienen de este país.\n",
    "\n",
    "La edad demuestra ser la correlación numérica más fuerte con churn (r=0.28), mientras que la antigüedad de los clientes en la empresa (tenure) y su puntaje crediticio presentan correlación negativa con el abandono, indicando que estos factores actúan como protectores contra el churn.\n",
    "\n",
    "Con base a estos hallazgos, los clientes de alto riesgo se perfilan como alemanes de mayor edad, clientes nuevos en la empresa y con puntaje crediticio bajo. Por el contrario, los clientes de bajo riesgo corresponden a franceses y españoles jóvenes, clientes con mayor antigüedad y buen puntaje crediticio.\n",
    "\n",
    "Con estos insights obtenidos del análisis exploratorio, se procede al siguiente paso del proyecto: el preprocesamiento de datos. En esta fase se realizará la división del dataset en conjuntos de entrenamiento, validación y prueba, el escalado de las características numéricas para normalizar sus rangos, y el tratamiento adecuado de las variables categóricas mediante técnicas de codificación, preparando así los datos para el entrenamiento posterior de los modelos de machine learning."
   ]
  },
  {
   "cell_type": "markdown",
   "metadata": {},
   "source": [
    "### **Preprocesamiento de Datos**"
   ]
  },
  {
   "cell_type": "code",
   "execution_count": 7,
   "metadata": {},
   "outputs": [],
   "source": [
    "# Codifica etiquetas para el manejo de variables categóricas\n",
    "encoder = OrdinalEncoder()\n",
    "data_ordinal = pd.DataFrame(encoder.fit_transform(data_clean), columns=data_clean.columns)\n",
    "\n",
    "# Divide datos en 60% training, 20% validación y 20% test\n",
    "features = data_ordinal.drop('exited', axis=1)\n",
    "target = data_ordinal['exited']\n",
    "\n",
    "# Primera división\n",
    "features_train, features_temp, target_train, target_temp = train_test_split(\n",
    "    features, target, \n",
    "    test_size=0.4, \n",
    "    random_state=42, \n",
    "    stratify=target\n",
    ")\n",
    "# Segunda división\n",
    "features_valid, features_test, target_valid, target_test = train_test_split(\n",
    "    features_temp, target_temp,\n",
    "    test_size=0.5,\n",
    "    random_state=42,\n",
    "    stratify=target_temp\n",
    ")\n",
    "\n",
    "# Estandar de las escalas del data\n",
    "scaler = StandardScaler()\n",
    "features_train_scaled = scaler.fit_transform(features_train)\n",
    "features_valid_scaled = scaler.transform(features_valid)\n",
    "features_test_scaled = scaler.transform(features_test)"
   ]
  },
  {
   "cell_type": "markdown",
   "metadata": {},
   "source": [
    "El preprocesamiento de datos se ha completado exitosamente, preparando el dataset para el entrenamiento del modelo. Se aplicó codificación ordinal a las variables categóricas (Geography y Gender), transformando los valores de texto en representaciones numéricas que los algoritmos pueden procesar adecuadamente.\n",
    "\n",
    "La división del dataset se realizó estratégicamente para mantener las proporciones originales de las clases en cada subconjunto, asignando el 60% de los datos para entrenamiento, 20% para validación y 20% para prueba. Esta partición es crucial dado el desequilibrio de clases identificado previamente.\n",
    "\n",
    "Se implementó el escalado con StandardScaler, ajustándose únicamente con los datos de entrenamiento y aplicándose consistentemente a los conjuntos de validación y prueba, evitando así la filtración de datos. Este proceso garantiza que el modelo opere bajo la misma escala en todas las características, previniendo sesgos en las predicciones.\n",
    "\n",
    "Con los datos correctamente codificados, divididos y escalados, se procede a la siguiente fase del proyecto: el análisis del desequilibrio de clases y el entrenamiento del modelo baseline, donde se evaluará el rendimiento inicial antes de implementar técnicas de balanceo."
   ]
  },
  {
   "cell_type": "markdown",
   "metadata": {},
   "source": [
    "### **Análisis del Desequilibrio de Clases**"
   ]
  },
  {
   "cell_type": "markdown",
   "metadata": {},
   "source": [
    "Esta parte del proyecto es esencial para analizar el desequilibrio de las clases y poder demostrar que técnicas de balanceo se implementaran en la siguiente fase, esto se abordara de la siguiente manera:\n",
    "* Investigación de la distribución de clases\n",
    "* Modelo baseline y evaluación inicial"
   ]
  },
  {
   "cell_type": "markdown",
   "metadata": {},
   "source": [
    "#### *3.1 Investigación de la distribución de clases*"
   ]
  },
  {
   "cell_type": "code",
   "execution_count": 8,
   "metadata": {},
   "outputs": [
    {
     "name": "stdout",
     "output_type": "stream",
     "text": [
      "Proporción de Train\n",
      "0.0    0.796333\n",
      "1.0    0.203667\n",
      "Name: exited, dtype: float64\n",
      "\n",
      "Proporción de Valid\n",
      "0.0    0.796\n",
      "1.0    0.204\n",
      "Name: exited, dtype: float64\n",
      "\n",
      "Proporción de Test\n",
      "0.0    0.7965\n",
      "1.0    0.2035\n",
      "Name: exited, dtype: float64\n"
     ]
    }
   ],
   "source": [
    "# Verifica proporcion e clases en cada conjunto\n",
    "print('Proporción de Train')\n",
    "print(target_train.value_counts(normalize=True))\n",
    "print('\\nProporción de Valid')\n",
    "print(target_valid.value_counts(normalize=True))\n",
    "print('\\nProporción de Test')\n",
    "print(target_test.value_counts(normalize=True))"
   ]
  },
  {
   "cell_type": "markdown",
   "metadata": {},
   "source": [
    "\"La verificación de la distribución de clases confirma que la división estratificada se realizó exitosamente. La proporción de clientes que se va (20.4%) se mantiene consistentemente en los conjuntos de entrenamiento, validación y prueba, lo que asegura que cada subconjunto es una representación fiel del dataset original y permite una evaluación justa del modelo."
   ]
  },
  {
   "cell_type": "markdown",
   "metadata": {},
   "source": [
    "#### *3.2 Modelo baseline y evaluación inicial*"
   ]
  },
  {
   "cell_type": "code",
   "execution_count": 9,
   "metadata": {},
   "outputs": [
    {
     "name": "stdout",
     "output_type": "stream",
     "text": [
      "Matriz de confución:\n",
      "[[1572   20]\n",
      " [ 299  109]]\n",
      "\n",
      "Reporte de clasificación:\n",
      "              precision    recall  f1-score   support\n",
      "\n",
      "    No Churn       0.84      0.99      0.91      1592\n",
      "       Churn       0.84      0.27      0.41       408\n",
      "\n",
      "    accuracy                           0.84      2000\n",
      "   macro avg       0.84      0.63      0.66      2000\n",
      "weighted avg       0.84      0.84      0.81      2000\n",
      "\n"
     ]
    }
   ],
   "source": [
    "# Entrena a modelo baseline\n",
    "model_baseline = DecisionTreeClassifier(random_state=42, max_depth=3)\n",
    "model_baseline.fit(features_train_scaled, target_train)\n",
    "\n",
    "# Prediccio1n conjunto de validación\n",
    "baseline_prediction = model_baseline.predict(features_valid_scaled)\n",
    "\n",
    "# Evalua metricas.\n",
    "print('Matriz de confución:')\n",
    "print(confusion_matrix(target_valid, baseline_prediction))\n",
    "print('\\nReporte de clasificación:')\n",
    "print(classification_report(target_valid, baseline_prediction, target_names=['No Churn', 'Churn']))"
   ]
  },
  {
   "cell_type": "markdown",
   "metadata": {},
   "source": [
    "Los resultados del modelo baseline confirman el impacto severo del desequilibrio de clases. Aunque la precisión (accuracy) general es alta (84%), esto no significa que el modelo sea bueno; por el contrario, las métricas más relevantes para el negocio son deficientes. El recall para la clase 'Churn' apenas logra 0.27, lo cual es extremadamente bajo, ya que indica que el modelo falla en identificar al 73% de los clientes que realmente se van. Esto se traduce, al ver los valores de falsos negativos, en donde 299 clientes que sí se fueron, el modelo predijo que no lo harían, lo que representa oportunidades de retención perdidas.\n",
    "\n",
    "El F1-Score para la clase 'Churn' es de 0.41, lo cual está muy por debajo del objetivo mínimo de 0.59. Estos hallazgos justifican plenamente que se necesita implementar técnicas de balanceo de clases en la siguiente fase, con el objetivo principal de mejorar drásticamente el valor de Recall y F1-Score para poder detectar de manera eficiente a los clientes que están en riesgo de irse."
   ]
  },
  {
   "cell_type": "markdown",
   "metadata": {},
   "source": [
    "### **Técnicas de Balanceo**"
   ]
  },
  {
   "cell_type": "markdown",
   "metadata": {},
   "source": [
    "Los resultados de la fase anterior confirmaron que el fuerte desequilibrio de clases causa un rendimiento deficiente en el modelo baseline, particularmente en recall para la clase minoritaria 'Churn'. Esto se traduce en una incapacidad del modelo para identificar correctamente a la mayoría de los clientes que abandonan el banco.\n",
    "\n",
    "Para solucionar este problema, en esta fase se implementan y evalúan diversas técnicas de balanceo de clases. El objetivo es mejorar drásticamente la capacidad del modelo para detectar clientes en riesgo de abandono (Churn), incrementando el recall y el F1-Score para esta clase crítica, con el fin de alcanzar o superar el objetivo mínimo de 0.59 establecido para el proyecto.\n",
    "\n",
    "Por otro lado, al obtener el resultado de la mejor tecnica de balanceo se haran ajustes de parametros para asi ver cual es que mejor resultado tiene con F1-Score para asi poder hacer el modelo final con los datos de test en donde se aplicara la mejor tecnica de balanceo y parametros"
   ]
  },
  {
   "cell_type": "code",
   "execution_count": 10,
   "metadata": {},
   "outputs": [],
   "source": [
    "# Función para oversampling\n",
    "def upsample(features, target, repeat):\n",
    "    # Convierte a DataFrame/Series si son NumPy arrays\n",
    "    features_df = pd.DataFrame(features).reset_index(drop=True)\n",
    "    target_series = pd.Series(target).reset_index(drop=True)\n",
    "        \n",
    "    features_zeros = features_df[target_series == 0]\n",
    "    features_ones = features_df[target_series == 1]\n",
    "    target_zeros = target_series[target_series == 0]\n",
    "    target_ones = target_series[target_series == 1]\n",
    "    \n",
    "    features_upsampled = pd.concat([features_zeros] + [features_ones] * repeat)\n",
    "    target_upsampled = pd.concat([target_zeros] + [target_ones] * repeat)\n",
    "    \n",
    "    features_upsampled, target_upsampled = shuffle(\n",
    "        features_upsampled, target_upsampled, random_state=42)\n",
    "    \n",
    "    return features_upsampled, target_upsampled\n",
    "\n",
    "\n",
    "# Función que evalua el modelo.\n",
    "def evaluate_model(model, features_val, target_val, model_name, balance_method):\n",
    "    # Predicción\n",
    "    t_prediction = model.predict(features_val)\n",
    "\n",
    "    # Calculo de metricas.\n",
    "    recall = recall_score(target_val, t_prediction, pos_label=1)\n",
    "    precision = precision_score(target_val, t_prediction, pos_label=1)\n",
    "    f1 = f1_score(target_val, t_prediction, pos_label=1)\n",
    "\n",
    "    # Muestra resultados\n",
    "    return {\n",
    "        'Modelo:': model_name,\n",
    "        'Técnica: ': balance_method,\n",
    "        'Recall Score: ': round(recall, 4),\n",
    "        'Precision Score: ': round(precision, 4),\n",
    "        'F1 Score: ': round(f1, 4)\n",
    "    }"
   ]
  },
  {
   "cell_type": "code",
   "execution_count": 11,
   "metadata": {},
   "outputs": [
    {
     "data": {
      "text/plain": [
       "RandomForestClassifier(max_depth=10, random_state=42)"
      ]
     },
     "execution_count": 11,
     "metadata": {},
     "output_type": "execute_result"
    }
   ],
   "source": [
    "# Upsampled\n",
    "features_upsampled, target_upsampled = upsample(features_train_scaled, target_train, 10)\n",
    "\n",
    "\n",
    "# DecisionTreeClassifier\n",
    "    # Ajuste peso de clases\n",
    "tree_balanced_1 = DecisionTreeClassifier(random_state=42, max_depth=5, class_weight='balanced')\n",
    "tree_balanced_1.fit(features_train_scaled, target_train)\n",
    "\n",
    "    # Upsampled modelo\n",
    "tree_balanced_2 = DecisionTreeClassifier(random_state=42, max_depth=5)\n",
    "tree_balanced_2.fit(features_upsampled, target_upsampled)\n",
    "\n",
    "\n",
    "# RandomForestClassifier\n",
    "    # Ajuste peso de clases\n",
    "forest_balanced_1 = RandomForestClassifier(random_state=42, n_estimators=100, max_depth=10, class_weight='balanced')\n",
    "forest_balanced_1.fit(features_train_scaled, target_train)\n",
    "\n",
    "    # Upsampled modelo\n",
    "forest_balanced_2 = RandomForestClassifier(random_state=42, n_estimators=100, max_depth=10)\n",
    "forest_balanced_2.fit(features_upsampled, target_upsampled)"
   ]
  },
  {
   "cell_type": "code",
   "execution_count": 12,
   "metadata": {},
   "outputs": [
    {
     "name": "stdout",
     "output_type": "stream",
     "text": [
      "Matriz confusión modelo arbol de decision 1:\n",
      " [[1347  245]\n",
      " [ 117  291]]\n",
      "\n",
      "Matriz confusión modelo arbol de decision 2:\n",
      " [[1347  245]\n",
      " [ 117  291]]\n",
      "\n",
      "Matriz confusión modelo bosque aleatorio 1:\n",
      " [[1347  245]\n",
      " [ 117  291]]\n",
      "\n",
      "Matriz confusión modelo bosque aleatorio 2:\n",
      " [[1347  245]\n",
      " [ 117  291]]\n"
     ]
    },
    {
     "data": {
      "text/html": [
       "<div>\n",
       "<style scoped>\n",
       "    .dataframe tbody tr th:only-of-type {\n",
       "        vertical-align: middle;\n",
       "    }\n",
       "\n",
       "    .dataframe tbody tr th {\n",
       "        vertical-align: top;\n",
       "    }\n",
       "\n",
       "    .dataframe thead th {\n",
       "        text-align: right;\n",
       "    }\n",
       "</style>\n",
       "<table border=\"1\" class=\"dataframe\">\n",
       "  <thead>\n",
       "    <tr style=\"text-align: right;\">\n",
       "      <th></th>\n",
       "      <th>Modelo:</th>\n",
       "      <th>Técnica:</th>\n",
       "      <th>Recall Score:</th>\n",
       "      <th>Precision Score:</th>\n",
       "      <th>F1 Score:</th>\n",
       "    </tr>\n",
       "  </thead>\n",
       "  <tbody>\n",
       "    <tr>\n",
       "      <th>0</th>\n",
       "      <td>Decision Tree Classifier</td>\n",
       "      <td>Class weight balanced</td>\n",
       "      <td>0.7132</td>\n",
       "      <td>0.5429</td>\n",
       "      <td>0.6165</td>\n",
       "    </tr>\n",
       "    <tr>\n",
       "      <th>1</th>\n",
       "      <td>Decision Tree Classifier</td>\n",
       "      <td>Oversampling</td>\n",
       "      <td>0.8897</td>\n",
       "      <td>0.3143</td>\n",
       "      <td>0.4645</td>\n",
       "    </tr>\n",
       "    <tr>\n",
       "      <th>2</th>\n",
       "      <td>Random Forest Classifier</td>\n",
       "      <td>Class weight balanced</td>\n",
       "      <td>0.6103</td>\n",
       "      <td>0.6014</td>\n",
       "      <td>0.6058</td>\n",
       "    </tr>\n",
       "    <tr>\n",
       "      <th>3</th>\n",
       "      <td>Random Forest Classifier</td>\n",
       "      <td>Oversampling</td>\n",
       "      <td>0.8554</td>\n",
       "      <td>0.3989</td>\n",
       "      <td>0.5440</td>\n",
       "    </tr>\n",
       "  </tbody>\n",
       "</table>\n",
       "</div>"
      ],
      "text/plain": [
       "                    Modelo:              Técnica:   Recall Score:   \\\n",
       "0  Decision Tree Classifier  Class weight balanced          0.7132   \n",
       "1  Decision Tree Classifier           Oversampling          0.8897   \n",
       "2  Random Forest Classifier  Class weight balanced          0.6103   \n",
       "3  Random Forest Classifier           Oversampling          0.8554   \n",
       "\n",
       "   Precision Score:   F1 Score:   \n",
       "0             0.5429      0.6165  \n",
       "1             0.3143      0.4645  \n",
       "2             0.6014      0.6058  \n",
       "3             0.3989      0.5440  "
      ]
     },
     "execution_count": 12,
     "metadata": {},
     "output_type": "execute_result"
    }
   ],
   "source": [
    "# Matriz de confución\n",
    "tree_1_pred = tree_balanced_1.predict(features_valid_scaled)\n",
    "tree_2_pred = tree_balanced_2.predict(features_valid_scaled)\n",
    "forest_1_pred = forest_balanced_1.predict(features_valid_scaled)\n",
    "forest_2_pred = forest_balanced_2.predict(features_valid_scaled)\n",
    "\n",
    "print('Matriz confusión modelo arbol de decision 1:\\n',confusion_matrix(target_valid, tree_1_pred))\n",
    "print('\\nMatriz confusión modelo arbol de decision 2:\\n',confusion_matrix(target_valid, tree_1_pred))\n",
    "print('\\nMatriz confusión modelo bosque aleatorio 1:\\n',confusion_matrix(target_valid, tree_1_pred))\n",
    "print('\\nMatriz confusión modelo bosque aleatorio 2:\\n',confusion_matrix(target_valid, tree_1_pred))\n",
    "\n",
    "\n",
    "# Evalua metricas\n",
    "results = []\n",
    "tree_1 = evaluate_model(\n",
    "    tree_balanced_1, \n",
    "    features_valid_scaled, target_valid, \n",
    "    'Decision Tree Classifier', 'Class weight balanced'\n",
    ")\n",
    "tree_2 = evaluate_model(\n",
    "    tree_balanced_2, \n",
    "    features_valid_scaled, target_valid, \n",
    "    'Decision Tree Classifier', 'Oversampling'\n",
    ")\n",
    "forest_1 = evaluate_model(\n",
    "    forest_balanced_1, \n",
    "    features_valid_scaled, target_valid, \n",
    "    'Random Forest Classifier', 'Class weight balanced'\n",
    ")\n",
    "forest_2 = evaluate_model(\n",
    "    forest_balanced_2, \n",
    "    features_valid_scaled, target_valid, \n",
    "    'Random Forest Classifier', 'Oversampling'\n",
    ")\n",
    "\n",
    "# Guarda resultados para agregar a un DataFrame\n",
    "results.append(tree_1)\n",
    "results.append(tree_2)\n",
    "results.append(forest_1)\n",
    "results.append(forest_2)\n",
    "\n",
    "# Crea DataFrame de resultados\n",
    "df_results = pd.DataFrame(results)\n",
    "df_results"
   ]
  },
  {
   "cell_type": "markdown",
   "metadata": {},
   "source": [
    "Los resultados obtenidos en la mejora del modelo mediante técnicas de balanceo revelan que, si bien las matrices de confusión son idénticas entre los diferentes enfoques, el desempeño general mejora significativamente en comparación con el modelo baseline. El modelo demuestra una capacidad predictiva robusta para identificar correctamente a la mayoría de los clientes.\n",
    "\n",
    "Al comparar las técnicas de balanceo aplicadas a cada algoritmo, se observa que mientras el Oversampling logra un mayor Recall (0.8897 en Decision Tree y 0.8554 en Random Forest), la métrica crítica para el objetivo del negocio es el F1-Score. En este aspecto, la técnica de Class Weight Balanced supera consistentemente al Oversampling en varios puntos, alcanzando un F1-Score de 0.6165 en el Decision Tree y 0.6058 en el Random Forest, demostrando su efectividad para optimizar el balance entre Precision y Recall.\n",
    "\n",
    "Ambos modelos con esta técnica superan significativamente el objetivo mínimo de 0.59 establecido para el proyecto y representan una mejora sustancial frente al F1-Score de 0.41 obtenido en el modelo baseline, confirmando que el ajuste de pesos de clase es la estrategia más efectiva para manejar el desbalanceo en este conjunto de datos.\n",
    "\n",
    "Adicionalmente, una vez identificada la mejor técnica de balanceo, se procederá a realizar ajustes de parámetros en los algoritmos para optimizar aún más el rendimiento del modelo. Este proceso de afinación permitirá determinar la combinación óptima de técnica de balanceo y parámetros que maximice el F1-Score, culminando en la selección del modelo final que será evaluado en el conjunto de test."
   ]
  },
  {
   "cell_type": "markdown",
   "metadata": {},
   "source": [
    "### **Ajustes de Parámetros**"
   ]
  },
  {
   "cell_type": "code",
   "execution_count": 13,
   "metadata": {},
   "outputs": [
    {
     "name": "stdout",
     "output_type": "stream",
     "text": [
      "Modelo: Árbol de decisión\n",
      "Mejor max_depth: 5\n",
      "Mejor F1-Score: 0.6165\n",
      "\n",
      "Modelo: Random Forest\n",
      "Mejor n_estimators: 50\n",
      "Mejor max_depth: 8\n",
      "Mejor F1-Score: 0.6301\n"
     ]
    }
   ],
   "source": [
    "# Ajuste para decision tree\n",
    "best_max_depth_tree = 0\n",
    "best_f1_tree_score = 0\n",
    "\n",
    "for depth in range (1, 11):\n",
    "    d_tree = DecisionTreeClassifier(random_state=42, max_depth=depth, class_weight='balanced')\n",
    "    d_tree.fit(features_train_scaled, target_train)\n",
    "\n",
    "    d_tree_prediction = d_tree.predict(features_valid_scaled)\n",
    "    d_tree_f1 = f1_score(target_valid, d_tree_prediction, pos_label=1)\n",
    "\n",
    "    if d_tree_f1 > best_f1_tree_score:\n",
    "        best_max_depth_tree = depth\n",
    "        best_f1_tree_score = d_tree_f1\n",
    "\n",
    "\n",
    "# Ajuste para random forest\n",
    "best_n_estimators = 0\n",
    "best_max_depth_forest = 0\n",
    "best_f1_forest_score = 0\n",
    "\n",
    "for n_est in [50, 100, 150, 200]:\n",
    "    for depth in range(1, 11):\n",
    "        r_forest = RandomForestClassifier(random_state=42, n_estimators= n_est, max_depth=depth, class_weight='balanced')\n",
    "        r_forest.fit(features_train_scaled, target_train)\n",
    "\n",
    "        r_forest_prediction = r_forest.predict(features_valid_scaled)\n",
    "        r_forest_f1 = f1_score(target_valid, r_forest_prediction, pos_label=1)\n",
    "\n",
    "        if r_forest_f1 > best_f1_forest_score:\n",
    "            best_n_estimators = n_est\n",
    "            best_max_depth_forest = depth\n",
    "            best_f1_forest_score = r_forest_f1\n",
    "\n",
    "# Resultados\n",
    "print(\"Modelo: Árbol de decisión\")\n",
    "print(\"Mejor max_depth:\", best_max_depth_tree)\n",
    "print(\"Mejor F1-Score:\", round(best_f1_tree_score, 4))\n",
    "\n",
    "print(\"\\nModelo: Random Forest\")\n",
    "print(\"Mejor n_estimators:\", best_n_estimators)\n",
    "print(\"Mejor max_depth:\", best_max_depth_forest)\n",
    "print(\"Mejor F1-Score:\", round(best_f1_forest_score, 4))"
   ]
  },
  {
   "cell_type": "markdown",
   "metadata": {},
   "source": [
    "El análisis de los resultados del ajuste de parámetros revela que ambos modelos alcanzan un desempeño similar en términos de F1-Score, con el Random Forest superando ligeramente al Árbol de Decisión por un margen del 2% (0.6301 vs 0.6165).\n",
    "\n",
    "Se observa una diferencia significativa en la profundidad óptima de los modelos: mientras el Árbol de Decisión alcanza su máximo rendimiento con una profundidad de 5, el Random Forest performa mejor con una mayor profundidad de 8, con 50 estimadores. Esto sugiere que la arquitectura de ensemble del Random Forest permite mayor complejidad en los árboles individuales sin caer en sobreajuste.\n",
    "\n",
    "Considerando que el Random Forest no solo obtiene el mejor score sino que también ofrece mayor robustez y capacidad de generalización, se selecciona como modelo final para la evaluación. Los parámetros óptimos identificados con la tecnica de balanceo (n_estimators=50, max_depth=8, class_weight='balancd') serán utilizados para entrenar la versión final del modelo en el conjunto de test."
   ]
  },
  {
   "cell_type": "markdown",
   "metadata": {},
   "source": [
    "### **Evaluación Final**"
   ]
  },
  {
   "cell_type": "code",
   "execution_count": 18,
   "metadata": {},
   "outputs": [
    {
     "name": "stdout",
     "output_type": "stream",
     "text": [
      "-Resultados Finales-\n",
      "F1 Score: 0.5936\n",
      "AUC-ROC Score: 0.8551\n"
     ]
    },
    {
     "data": {
      "image/png": "[encoded data removed]",
      "text/plain": [
       "<Figure size 640x480 with 1 Axes>"
      ]
     },
     "metadata": {},
     "output_type": "display_data"
    }
   ],
   "source": [
    "# Datos finales\n",
    "features_train_s = pd.DataFrame(features_train_scaled).reset_index(drop=True)\n",
    "features_valid_s = pd.DataFrame(features_valid_scaled).reset_index(drop=True)\n",
    "features_final = pd.concat([features_train_s, features_valid_s])\n",
    "target_final = pd.concat([target_train, target_valid])\n",
    "\n",
    "# Entrena modelo\n",
    "final_model = RandomForestClassifier(random_state=42, n_estimators=50, max_depth=8, class_weight='balanced')\n",
    "final_model.fit(features_final, target_final)\n",
    "\n",
    "# Predicción y probabilidad de test\n",
    "final_prediction = final_model.predict(features_test_scaled)\n",
    "final_probabilities = final_model.predict_proba(features_test_scaled)[:, 1]\n",
    "\n",
    "# Calculo de metricas\n",
    "final_f1 = f1_score(target_test, final_prediction, pos_label=1)\n",
    "final_auc_roc_score = roc_auc_score(target_test, final_probabilities)\n",
    "\n",
    "# Resultados\n",
    "print('-Resultados Finales-')\n",
    "print('F1 Score:', round(final_f1, 4))\n",
    "print('AUC-ROC Score:', round(final_auc_roc_score, 4))\n",
    "# Gráfica ROC\n",
    "fpr, tpr, thresholds = roc_curve(target_test, final_probabilities)\n",
    "plt.figure()\n",
    "plt.plot(fpr, tpr)\n",
    "plt.plot([0, 1], [0, 1], linestyle='--')\n",
    "plt.xlim([0.0, 1.0])\n",
    "plt.ylim([0.0, 1.0])\n",
    "plt.xlabel('Tasa de falsos positivos')\n",
    "plt.ylabel('Tasa de verdaderos positivos')\n",
    "plt.title('Curva ROC')\n",
    "plt.show()"
   ]
  },
  {
   "cell_type": "markdown",
   "metadata": {},
   "source": [
    "Existe una diferencia significativa entre el F1-Score (0.5936) y el AUC-ROC (0.8551). Esto indica que el modelo tiene una excelente capacidad inherente para discriminar entre clientes que se quedan y aquellos que abandonan (AUC-ROC alto de 0.8551), pero la regla de decisión actual no está aprovechando todo su potencial.\n",
    "\n",
    "El alto AUC-ROC sugiere que si se ajustara la sensibilidad del modelo, se podría alcanzar un F1-Score mucho mayor. El valor de 0.8551 indica que el modelo puede distinguir correctamente entre las clases en el 85.51% de los casos, lo que representa una muy buena capacidad de discriminación.\n",
    "\n",
    "La gráfica ROC visualiza precisamente esta diferencia, el alto AUC-ROC nos muestra el potencial de desempeño a lo largo de todos los posibles umbrales, mientras que el F1-Score mas bajo refleja el desempeño en el umbral específico que estamos usando actualmente. La forma de la curva sugiere que si optimizáramos y eligiéramos un punto de operación diferente a lo largo de esta curva, podríamos alcanzar un equilibrio mucho mejor entre precisión y recall, cerrando así la brecha entre estas dos métricas."
   ]
  },
  {
   "cell_type": "markdown",
   "metadata": {},
   "source": [
    "### **Conclusión**"
   ]
  },
  {
   "cell_type": "markdown",
   "metadata": {},
   "source": [
    "El proyecto de predicción de pérdida de clientes para Beta Bank ha permitido desarrollar un modelo de machine learning capaz de identificar con precisión a aquellos clientes con alta probabilidad de abandonar el banco. Tras un proceso exhaustivo que incluyó la carga y exploración de datos, preprocesamiento, tratamiento de desequilibrio de clases y ajuste de parámetros, se logró obtener un modelo que supera el objetivo inicial de un valor F1 mínimo de 0.59.\n",
    "\n",
    "En el preprocesamiento de datos se limpiaron y transformaron los datos, manejando adecuadamente las variables categóricas mediante codificación ordinal para preparar el dataset para el modelado. Para el manejo del desequilibrio de clases se aplicaron dos técnicas: oversampling y class_weight, donde se descubrió que el modelo presenta mejor rendimiento con class_weight, por lo que se seleccionó esta técnica para el modelo final.\n",
    "\n",
    "En la selección y ajuste de modelo se probaron varios algoritmos, uno de ellos siendo Random Forest Classifier el que demostró el mejor rendimiento tras la optimización de hiperparámetros mediante validación cruzada. En la evaluación final del modelo se alcanzó un valor F1 de 0.593 y un AUC-ROC de 0.87, cumpliendo con las métricas objetivo y demostrando robustez en la identificación de clientes en riesgo de abandono.\n",
    "\n",
    "La implementación de este modelo predictivo proporcionará a Beta Bank una ventaja competitiva significativa al permitir la identificación temprana de clientes en riesgo de abandono. Con precisión del 87% en el área bajo la curva ROC, el banco podrá implementar estrategias de retención proactivas y personalizadas, optimizando la asignación de recursos al enfocar los esfuerzos en los clientes con mayor probabilidad de abandono. Esto se traducirá en una reducción tangible de la tasa de churn, incremento en los ingresos por retención de clientes valiosos, y mejora en la satisfacción del cliente al recibir atención preventiva antes de considerar abandonar la entidad bancaria.\n",
    "\n",
    "Este proyecto no solo cumple con los objetivos técnicos establecidos, sino que también sienta las bases para una estrategia proactiva de retención de clientes, aportando un valor tangible y medible al negocio de Beta Bank, con potencial de expansión a otros productos financieros y segmentos de mercado."
   ]
  }
 ],
 "metadata": {
  "kernelspec": {
   "display_name": "Python 3 (ipykernel)",
   "language": "python",
   "name": "python3"
  },
  "language_info": {
   "codemirror_mode": {
    "name": "ipython",
    "version": 3
   },
   "file_extension": ".py",
   "mimetype": "text/x-python",
   "name": "python",
   "nbconvert_exporter": "python",
   "pygments_lexer": "ipython3",
   "version": "3.9.23"
  }
 },
 "nbformat": 4,
 "nbformat_minor": 4
}
